{
 "cells": [
  {
   "cell_type": "markdown",
   "metadata": {},
   "source": [
    "Suppose you have a string “I+Love+Python”, write a small code to replace ‘+’ with space in python."
   ]
  },
  {
   "cell_type": "code",
   "execution_count": 1,
   "metadata": {},
   "outputs": [
    {
     "name": "stdout",
     "output_type": "stream",
     "text": [
      "I+LOVE+PYTHON\n",
      "I LOVE PYTHON\n"
     ]
    }
   ],
   "source": [
    "str1 = 'I+LOVE+PYTHON'\n",
    "print(str1)\n",
    "str2 = str1.replace('+',' ')\n",
    "print(str2)"
   ]
  },
  {
   "cell_type": "markdown",
   "metadata": {},
   "source": [
    "Queation_14. Write a python program to solve a quadratic equation of the form 𝑎𝑥2+𝑏𝑥+𝑐=0. Where a, b and c are to be taken \n",
    "by user input. Handle the erroneous input, such as ‘a’ should not be equal to 0."
   ]
  },
  {
   "cell_type": "code",
   "execution_count": 5,
   "metadata": {},
   "outputs": [
    {
     "name": "stdout",
     "output_type": "stream",
     "text": [
      "Quadratic function : (a * x^2) + b*x + c\n",
      "a: 1\n",
      "b: 1\n",
      "c: 1\n",
      "Complex Roots\n",
      "-0.5  + i 1.7320508075688772\n",
      "-0.5  - i 1.7320508075688772\n"
     ]
    }
   ],
   "source": [
    "from math import sqrt\n",
    "\n",
    "print(\"Quadratic function : (a * x^2) + b*x + c\")\n",
    "a = eval(input(\"a: \"))\n",
    "b = eval(input(\"b: \"))\n",
    "c = eval(input(\"c: \"))\n",
    "\n",
    "r = b**2 - 4*a*c\n",
    "\n",
    "if r > 0:\n",
    "    print(\"Real and Different roots \")\n",
    "    num_roots = 2\n",
    "    x1 = (((-b) + sqrt(r))/(2*a))     \n",
    "    x2 = (((-b) - sqrt(r))/(2*a))\n",
    "    print(\"There are 2 roots: {} and {}\".format(x1, x2))\n",
    "    \n",
    "elif r == 0:\n",
    "    print(\" Real and Same roots\")  \n",
    "    num_roots = 1\n",
    "    x = (-b) / 2*a\n",
    "    print(\"There is one root: \", x)\n",
    "    \n",
    "# when discriminant less than 0 \n",
    "else:\n",
    "    print(\"Complex Roots\")  \n",
    "    print(- b / (2 * a), \" + i\",sqrt(abs(r)))  \n",
    "    print(- b / (2 * a), \" - i\",sqrt(abs(r))) \n",
    "    exit()"
   ]
  },
  {
   "cell_type": "markdown",
   "metadata": {},
   "source": [
    "Question_15. Write a python program to find the sum of first ‘n’ natural numbers without using any loop. Ask user to input\n",
    "the value of ‘n’."
   ]
  },
  {
   "cell_type": "code",
   "execution_count": 5,
   "metadata": {},
   "outputs": [],
   "source": [
    "def find_sum(n):\n",
    "    return (n*(n+1))/2"
   ]
  },
  {
   "cell_type": "code",
   "execution_count": 8,
   "metadata": {},
   "outputs": [
    {
     "data": {
      "text/plain": [
       "55.0"
      ]
     },
     "execution_count": 8,
     "metadata": {},
     "output_type": "execute_result"
    }
   ],
   "source": [
    "find_sum(10)"
   ]
  },
  {
   "cell_type": "code",
   "execution_count": null,
   "metadata": {},
   "outputs": [],
   "source": []
  }
 ],
 "metadata": {
  "kernelspec": {
   "display_name": "Python 3",
   "language": "python",
   "name": "python3"
  },
  "language_info": {
   "codemirror_mode": {
    "name": "ipython",
    "version": 3
   },
   "file_extension": ".py",
   "mimetype": "text/x-python",
   "name": "python",
   "nbconvert_exporter": "python",
   "pygments_lexer": "ipython3",
   "version": "3.6.5"
  }
 },
 "nbformat": 4,
 "nbformat_minor": 2
}
