{
 "cells": [
  {
   "cell_type": "markdown",
   "metadata": {},
   "source": [
    "## 11. Write a python function print pyramid of stars. Level of pyramid should be taken as an input from the user."
   ]
  },
  {
   "cell_type": "code",
   "execution_count": 22,
   "metadata": {},
   "outputs": [
    {
     "name": "stdout",
     "output_type": "stream",
     "text": [
      "        * \r\n",
      "       * * \r\n",
      "      * * * \r\n",
      "     * * * * \r\n",
      "    * * * * * \r\n"
     ]
    }
   ],
   "source": [
    "# Function to demonstrate printing pattern triangle \n",
    "def triangle(n): \n",
    "\n",
    "    # number of spaces \n",
    "    k = 2*n - 2\n",
    "\n",
    "# outer loop to handle number of rows \n",
    "    for i in range(0, n): \n",
    "\n",
    "# inner loop to handle number spaces \n",
    "# values changing acc. to requirement \n",
    "        for j in range(0, k): \n",
    "            print(end=\" \") \n",
    "\n",
    "# decrementing k after each loop \n",
    "        k = k - 1\n",
    "\n",
    "# inner loop to handle number of columns \n",
    "# values changing acc. to outer loop \n",
    "        for j in range(0, i+1): \n",
    "\n",
    "    # printing stars \n",
    "            print(\"* \", end=\"\") \n",
    "\n",
    "# ending line after each row \n",
    "        print(\"\\r\") \n",
    "\n",
    "# Driver Code \n",
    "n = 5\n",
    "triangle(n) \n"
   ]
  },
  {
   "cell_type": "markdown",
   "metadata": {},
   "source": [
    "## 12. Write a python function print Hourglass pattern."
   ]
  },
  {
   "cell_type": "code",
   "execution_count": 25,
   "metadata": {},
   "outputs": [
    {
     "name": "stdout",
     "output_type": "stream",
     "text": [
      "* * * * * \n",
      " * * * * \n",
      "  * * * \n",
      "   * * \n",
      "    * \n",
      "    * \n",
      "   * * \n",
      "  * * * \n",
      " * * * * \n",
      "* * * * * \n"
     ]
    }
   ],
   "source": [
    "def main():\n",
    "    character = \"*\"\n",
    "    rows_number = 5\n",
    "\n",
    "    if not(character.endswith(\" \")):    # Ending the character with a space is done so as to adjust the output.\n",
    "        character+= \" \" \n",
    "\n",
    "    for i in range(rows_number):\n",
    "        print(\" \"*i+character*(rows_number-i))\n",
    "    for j in range(1, rows_number+1):\n",
    "        print(\" \"*(rows_number-j)+character*j)\n",
    "\n",
    "if __name__ == \"__main__\":\n",
    "    main()"
   ]
  },
  {
   "cell_type": "markdown",
   "metadata": {},
   "source": [
    "## 13. Write a python function to print Pascal’s Triangle. The number of levels in the triangle must be taken as input by user."
   ]
  },
  {
   "cell_type": "code",
   "execution_count": 24,
   "metadata": {},
   "outputs": [
    {
     "name": "stdout",
     "output_type": "stream",
     "text": [
      "1 \n",
      "1 1 \n",
      "1 2 1 \n",
      "1 3 3 1 \n",
      "1 4 6 4 1 \n"
     ]
    }
   ],
   "source": [
    "def print_pascal_triangle(size):\n",
    "    for i in range(0, size):\n",
    "        for j in range(0, i + 1):\n",
    "            print(decide_number(i, j), end=\" \")\n",
    "        print()\n",
    "\n",
    "def decide_number(n, k):\n",
    "    num = 1\n",
    "    if k > n - k:\n",
    "        k = n - k\n",
    "    for i in range(0, k):\n",
    "        num = num * (n - i)\n",
    "        num = num // (i + 1)\n",
    "    return num\n",
    "\n",
    "rows = 5\n",
    "print_pascal_triangle(rows)"
   ]
  },
  {
   "cell_type": "markdown",
   "metadata": {},
   "source": [
    "## 14. Write a python function to print Diamond Shaped Pattern shown below. Function must take integer input which represents the number of stars in the middle most line"
   ]
  },
  {
   "cell_type": "code",
   "execution_count": 26,
   "metadata": {},
   "outputs": [
    {
     "name": "stdout",
     "output_type": "stream",
     "text": [
      "    *\n",
      "   ***\n",
      "  *****\n",
      " *******\n",
      "*********\n",
      " *******\n",
      "  *****\n",
      "   ***\n",
      "    *\n"
     ]
    }
   ],
   "source": [
    " def Diamond(rows): \n",
    "    n = 0\n",
    "    for i in range(1, rows + 1): \n",
    "        # loop to print spaces \n",
    "        for j in range (1, (rows - i) + 1): \n",
    "            print(end = \" \") \n",
    "\n",
    "        # loop to print star \n",
    "        while n != (2 * i - 1): \n",
    "            print(\"*\", end = \"\") \n",
    "            n = n + 1\n",
    "        n = 0\n",
    "\n",
    "        # line break \n",
    "        print() \n",
    "\n",
    "    k = 1\n",
    "    n = 1\n",
    "    for i in range(1, rows): \n",
    "        # loop to print spaces \n",
    "        for j in range (1, k + 1): \n",
    "            print(end = \" \") \n",
    "        k = k + 1\n",
    "\n",
    "        # loop to print star \n",
    "        while n <= (2 * (rows - i) - 1): \n",
    "            print(\"*\", end = \"\") \n",
    "            n = n + 1\n",
    "        n = 1\n",
    "        print() \n",
    "\n",
    "# Driver Code \n",
    "# number of rows input \n",
    "rows = 5\n",
    "Diamond(rows) "
   ]
  },
  {
   "cell_type": "markdown",
   "metadata": {},
   "source": [
    "## 15. Write a python function to print Diamond Shaped Character Pattern shown below. Function must take integer input within range 1 to 26, which represents the rank of alphabet"
   ]
  },
  {
   "cell_type": "code",
   "execution_count": null,
   "metadata": {},
   "outputs": [],
   "source": []
  }
 ],
 "metadata": {
  "kernelspec": {
   "display_name": "Python 3",
   "language": "python",
   "name": "python3"
  },
  "language_info": {
   "codemirror_mode": {
    "name": "ipython",
    "version": 3
   },
   "file_extension": ".py",
   "mimetype": "text/x-python",
   "name": "python",
   "nbconvert_exporter": "python",
   "pygments_lexer": "ipython3",
   "version": "3.6.5"
  }
 },
 "nbformat": 4,
 "nbformat_minor": 2
}
